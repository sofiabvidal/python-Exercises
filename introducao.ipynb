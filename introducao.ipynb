{
 "cells": [
  {
   "cell_type": "code",
   "execution_count": 4,
   "id": "715b5340",
   "metadata": {},
   "outputs": [
    {
     "name": "stdout",
     "output_type": "stream",
     "text": [
      "36\n"
     ]
    }
   ],
   "source": [
    "num1 = 17\n",
    "num2 = 19\n",
    "print(num1 + num2)"
   ]
  },
  {
   "cell_type": "code",
   "execution_count": 8,
   "id": "f8692a0a",
   "metadata": {},
   "outputs": [
    {
     "name": "stdout",
     "output_type": "stream",
     "text": [
      "1\n",
      "2\n",
      "3\n",
      "4\n"
     ]
    }
   ],
   "source": [
    "for i in range(1,5):\n",
    "    print(i)"
   ]
  },
  {
   "cell_type": "code",
   "execution_count": 9,
   "id": "aa9d55fb",
   "metadata": {},
   "outputs": [
    {
     "name": "stdout",
     "output_type": "stream",
     "text": [
      "['sofia', 'joao', 'taylor']\n"
     ]
    }
   ],
   "source": [
    "nome = [\"sofia\", \"joao\", \"taylor\"]\n",
    "print(nome)"
   ]
  },
  {
   "cell_type": "code",
   "execution_count": 10,
   "id": "f6ecbedb",
   "metadata": {},
   "outputs": [
    {
     "name": "stdout",
     "output_type": "stream",
     "text": [
      "taylor\n"
     ]
    }
   ],
   "source": [
    "nome = [\"sofia\", \"joao\", \"taylor\"]\n",
    "print(nome[2])"
   ]
  },
  {
   "cell_type": "code",
   "execution_count": 12,
   "id": "9fe2792c",
   "metadata": {},
   "outputs": [
    {
     "name": "stdout",
     "output_type": "stream",
     "text": [
      "sofia joao\n"
     ]
    }
   ],
   "source": [
    "nome = [\"sofia\", \"joao\", \"taylor\"]\n",
    "print(nome[0], nome[1])"
   ]
  },
  {
   "cell_type": "code",
   "execution_count": 13,
   "id": "fb7b0b82",
   "metadata": {},
   "outputs": [
    {
     "name": "stdout",
     "output_type": "stream",
     "text": [
      "['sofia', 'joao', 'taylor']\n",
      "['sofia', 'joao', 'taylor']\n",
      "['sofia', 'joao', 'taylor']\n"
     ]
    }
   ],
   "source": [
    "for i in range(0,3):\n",
    "    print(nome)"
   ]
  },
  {
   "cell_type": "code",
   "execution_count": 14,
   "id": "d401d6e3",
   "metadata": {},
   "outputs": [
    {
     "name": "stdout",
     "output_type": "stream",
     "text": [
      "sofia\n",
      "joao\n",
      "taylor\n"
     ]
    }
   ],
   "source": [
    "for i in range(0,3):\n",
    "    print(nome[i])"
   ]
  },
  {
   "cell_type": "code",
   "execution_count": 15,
   "id": "2f49d461",
   "metadata": {},
   "outputs": [
    {
     "name": "stdout",
     "output_type": "stream",
     "text": [
      "sofia\n",
      "joao\n",
      "taylor\n"
     ]
    }
   ],
   "source": [
    "for i in nome:\n",
    "    print(i)"
   ]
  },
  {
   "cell_type": "code",
   "execution_count": 17,
   "id": "d405ef80",
   "metadata": {},
   "outputs": [
    {
     "name": "stdout",
     "output_type": "stream",
     "text": [
      "0\n",
      "1\n",
      "2\n",
      "3\n",
      "4\n",
      "5\n"
     ]
    }
   ],
   "source": [
    "i = 0 \n",
    "while i <= 5:\n",
    "    print(i)\n",
    "    i+=1"
   ]
  },
  {
   "cell_type": "code",
   "execution_count": 18,
   "id": "05f4fd74",
   "metadata": {},
   "outputs": [
    {
     "name": "stdout",
     "output_type": "stream",
     "text": [
      "0\n",
      "1\n",
      "2\n",
      "3\n",
      "4\n",
      "5\n"
     ]
    }
   ],
   "source": [
    "i = 0 \n",
    "while i <= 10:\n",
    "    if i == 6:\n",
    "        break\n",
    "    print(i)\n",
    "    i+=1"
   ]
  },
  {
   "cell_type": "code",
   "execution_count": 19,
   "id": "243c3ac1",
   "metadata": {},
   "outputs": [
    {
     "name": "stdout",
     "output_type": "stream",
     "text": [
      "0\n",
      "1\n",
      "2\n",
      "3\n",
      "4\n",
      "5\n",
      "6\n",
      "7\n",
      "8\n"
     ]
    }
   ],
   "source": [
    "i = 0\n",
    "while i <= 10:\n",
    "    if i == 9:\n",
    "        break\n",
    "    print(i)\n",
    "    i+=1"
   ]
  },
  {
   "cell_type": "code",
   "execution_count": 23,
   "id": "5444761e",
   "metadata": {},
   "outputs": [
    {
     "name": "stdout",
     "output_type": "stream",
     "text": [
      "nao pode tirar cnh\n"
     ]
    }
   ],
   "source": [
    "age = 17\n",
    "if age >= 18:\n",
    "    print(\"pode tirar cnh\")\n",
    "else:\n",
    "    print(\"nao pode tirar cnh\")"
   ]
  },
  {
   "cell_type": "code",
   "execution_count": 27,
   "id": "fb9f605d",
   "metadata": {},
   "outputs": [
    {
     "name": "stdout",
     "output_type": "stream",
     "text": [
      "é par\n"
     ]
    }
   ],
   "source": [
    "x = 8\n",
    "y = 20\n",
    "soma = x + y\n",
    "\n",
    "if soma % 2 == 0 and x % 2 == 0 and y % 2 == 0:\n",
    "    print(\"é par\")\n",
    "else:\n",
    "    if x % 2 == 0 or y % 2 == 0:\n",
    "        print(\"um deles é par\")\n",
    "    else:\n",
    "        print(\"todos sao impar\")"
   ]
  },
  {
   "cell_type": "code",
   "execution_count": 29,
   "id": "f9240e08",
   "metadata": {},
   "outputs": [
    {
     "name": "stdout",
     "output_type": "stream",
     "text": [
      "oi\n"
     ]
    }
   ],
   "source": [
    "def soso():\n",
    "    print(\"oi\")\n",
    "soso()"
   ]
  },
  {
   "cell_type": "code",
   "execution_count": 36,
   "id": "ab16d9a4",
   "metadata": {},
   "outputs": [
    {
     "name": "stdout",
     "output_type": "stream",
     "text": [
      "oi, tudo bem joao\n"
     ]
    }
   ],
   "source": [
    "def verNome(nome):\n",
    "    print(\"oi, tudo bem\", nome)\n",
    "\n",
    "verNome(\"joao\")"
   ]
  },
  {
   "cell_type": "code",
   "execution_count": 38,
   "id": "32fc234a",
   "metadata": {},
   "outputs": [
    {
     "name": "stdout",
     "output_type": "stream",
     "text": [
      "nao pode tirar habilitacao, falta 2 anos\n"
     ]
    }
   ],
   "source": [
    "def cnh(idade):\n",
    "    if idade >= 18:\n",
    "        print(\"pode tirar habilitacao\")\n",
    "    else:\n",
    "        conta = 18 - idade\n",
    "        print(f\"nao pode tirar habilitacao, falta {conta} anos\")\n",
    "\n",
    "cnh(16)\n",
    "        "
   ]
  },
  {
   "cell_type": "code",
   "execution_count": null,
   "id": "a6d86e16",
   "metadata": {},
   "outputs": [],
   "source": []
  }
 ],
 "metadata": {
  "kernelspec": {
   "display_name": "Python 3 (ipykernel)",
   "language": "python",
   "name": "python3"
  },
  "language_info": {
   "codemirror_mode": {
    "name": "ipython",
    "version": 3
   },
   "file_extension": ".py",
   "mimetype": "text/x-python",
   "name": "python",
   "nbconvert_exporter": "python",
   "pygments_lexer": "ipython3",
   "version": "3.11.1"
  }
 },
 "nbformat": 4,
 "nbformat_minor": 5
}
